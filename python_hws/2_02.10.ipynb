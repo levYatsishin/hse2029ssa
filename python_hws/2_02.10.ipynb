{
 "cells": [
  {
   "cell_type": "code",
   "execution_count": 10,
   "id": "467dc7ac-08c3-4222-9537-97ddc4bab8fa",
   "metadata": {},
   "outputs": [
    {
     "name": "stdout",
     "output_type": "stream",
     "text": [
      "word = \"test\"\n",
      "Результат: es\n",
      "\n",
      "word = \"testing\"\n",
      "Результат: t\n",
      "\n",
      "word = \"myowntest\"\n",
      "Результат: n\n",
      "\n",
      "word = \"123\"\n",
      "Результат: 2\n",
      "\n",
      "word = \"1234\"\n",
      "Результат: 23\n",
      "\n"
     ]
    }
   ],
   "source": [
    "# Task 1\n",
    "def middle_chars(word: str) -> str:\n",
    "    n = len(word)\n",
    "    if n == 0:\n",
    "        return \"\"\n",
    "        \n",
    "    mid = n // 2\n",
    "    \n",
    "    if n % 2 == 0:\n",
    "        return word[mid - 1 : mid + 1]\n",
    "    \n",
    "    return word[mid]\n",
    "\n",
    "\n",
    "\n",
    "examples = [\"test\", \"testing\", \"myowntest\", \"123\", \"1234\"]\n",
    "for w in examples:\n",
    "    result = middle_chars(w)\n",
    "    print(f'word = \"{w}\"')\n",
    "    print(f\"Результат: {result}\\n\")"
   ]
  },
  {
   "cell_type": "code",
   "execution_count": 14,
   "id": "a01aad64-8fef-473a-9729-e8df1d3c4b68",
   "metadata": {},
   "outputs": [
    {
     "name": "stdout",
     "output_type": "stream",
     "text": [
      "Пример 1:\n",
      "Идеальные пары:\n",
      "Alex и Emma\n",
      "Arthur и Kate\n",
      "John и Kira\n",
      "Peter и Liza\n",
      "Richard и Trisha\n",
      "\n",
      "Пример 2:\n",
      "Внимание, кто-то может остаться без пары.\n"
     ]
    }
   ],
   "source": [
    "from typing import Iterable\n",
    "\n",
    "# Task 2\n",
    "def make_pairs(\n",
    "    boys: list[str], girls: list[str]\n",
    ") -> list[tuple[str, str]] | None:\n",
    "    if len(boys) != len(girls):\n",
    "        return None\n",
    "\n",
    "    boys_sorted = sorted(boys)\n",
    "    girls_sorted = sorted(girls)\n",
    "\n",
    "    return list(zip(boys_sorted, girls_sorted))\n",
    "\n",
    "\n",
    "def print_pairs(pairs: list[tuple[str, str]] | None) -> None:\n",
    "    if pairs is None:\n",
    "        print(\"Внимание, кто-то может остаться без пары.\")\n",
    "        return None\n",
    "\n",
    "    print(\"Идеальные пары:\")\n",
    "    for boy, girl in pairs:\n",
    "        print(f\"{boy} и {girl}\")\n",
    "\n",
    "\n",
    "boys1 = [\"Peter\", \"Alex\", \"John\", \"Arthur\", \"Richard\"]\n",
    "girls1 = [\"Kate\", \"Liza\", \"Kira\", \"Emma\", \"Trisha\"]\n",
    "pairs1 = make_pairs(boys1, girls1)\n",
    "\n",
    "print(\"Пример 1:\")\n",
    "print_pairs(pairs1)\n",
    "\n",
    "boys2 = [\"Peter\", \"Alex\", \"John\", \"Arthur\", \"Richard\", \"Michael\"]\n",
    "girls2 = [\"Kate\", \"Liza\", \"Kira\", \"Emma\", \"Trisha\"]\n",
    "pairs2 = make_pairs(boys2, girls2)\n",
    "\n",
    "print(\"\\nПример 2:\")\n",
    "print_pairs(pairs2)"
   ]
  },
  {
   "cell_type": "code",
   "execution_count": null,
   "id": "fb922316-30b4-4bd4-b11f-1dfc22f704ea",
   "metadata": {},
   "outputs": [],
   "source": []
  }
 ],
 "metadata": {
  "kernelspec": {
   "display_name": "Python [conda env:base] *",
   "language": "python",
   "name": "conda-base-py"
  },
  "language_info": {
   "codemirror_mode": {
    "name": "ipython",
    "version": 3
   },
   "file_extension": ".py",
   "mimetype": "text/x-python",
   "name": "python",
   "nbconvert_exporter": "python",
   "pygments_lexer": "ipython3",
   "version": "3.13.5"
  }
 },
 "nbformat": 4,
 "nbformat_minor": 5
}
