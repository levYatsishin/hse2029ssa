{
 "cells": [
  {
   "cell_type": "code",
   "execution_count": 4,
   "id": "16c6e240-7989-4417-9d62-b057f315e9b3",
   "metadata": {},
   "outputs": [
    {
     "name": "stdout",
     "output_type": "stream",
     "text": [
      "{'milk15': False, 'cheese': True, 'sausage': False}\n"
     ]
    }
   ],
   "source": [
    "items = {\n",
    "    \"milk15\": {\"name\": \"молоко 1.5%\", \"count\": 34, \"price\": 89.9},\n",
    "    \"cheese\": {\"name\": \"сыр молочный 1 кг.\", \"count\": 12, \"price\": 990.9},\n",
    "    \"sausage\": {\"name\": \"колбаса 1 кг.\", \"count\": 122, \"price\": 1990.9},\n",
    "}\n",
    "\n",
    "price_less_20 = {key: value[\"count\"] < 20 for key, value in items.items()}\n",
    "\n",
    "print(price_less_20)"
   ]
  },
  {
   "cell_type": "code",
   "execution_count": null,
   "id": "0ce367ea-f0fb-48a6-a89f-ce9cabc20d2f",
   "metadata": {},
   "outputs": [],
   "source": []
  }
 ],
 "metadata": {
  "kernelspec": {
   "display_name": "Python [conda env:base] *",
   "language": "python",
   "name": "conda-base-py"
  },
  "language_info": {
   "codemirror_mode": {
    "name": "ipython",
    "version": 3
   },
   "file_extension": ".py",
   "mimetype": "text/x-python",
   "name": "python",
   "nbconvert_exporter": "python",
   "pygments_lexer": "ipython3",
   "version": "3.13.5"
  }
 },
 "nbformat": 4,
 "nbformat_minor": 5
}
