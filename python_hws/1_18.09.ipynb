{
 "cells": [
  {
   "cell_type": "code",
   "execution_count": 18,
   "id": "467dc7ac-08c3-4222-9537-97ddc4bab8fa",
   "metadata": {},
   "outputs": [],
   "source": [
    "def is_leap_year(year: int) -> bool:\n",
    "    is_leap = year % 4 == 0 and (year % 100 != 0 or year % 400 == 0)\n",
    "    return \"Високосный год\" if is_leap else \"Обычный год\"\n",
    "\n",
    "\n",
    "def is_lucky_ticket(ticket: int) -> bool:\n",
    "    # NOTE: there is no specification on the format\n",
    "    # of the ticket number. (is 1 → 000001 for example),\n",
    "    # so assuming the best case scenario (as the task is \n",
    "    # just an exercise) i.e. every ticket number is a \n",
    "    # valid python int\n",
    "    \n",
    "    first = sum(int(ch) for ch in str(ticket)[:3])\n",
    "    last = sum(int(ch) for ch in str(ticket)[3:])\n",
    "\n",
    "    lucky = first == last\n",
    "    \n",
    "    return \"Счастливый билет\" if lucky else \"Несчастливый билет\"\n"
   ]
  },
  {
   "cell_type": "code",
   "execution_count": 19,
   "id": "6a04f3cb-121f-4f00-bbcf-3f4ea5b59051",
   "metadata": {},
   "outputs": [
    {
     "name": "stdout",
     "output_type": "stream",
     "text": [
      "2023 год – Обычный год\n",
      "2024 год – Високосный год\n"
     ]
    }
   ],
   "source": [
    "y1, y2 = 2023, 2024\n",
    "\n",
    "print(f\"{y1} год – {is_leap_year(y1)}\")\n",
    "print(f\"{y2} год – {is_leap_year(y2)}\")"
   ]
  },
  {
   "cell_type": "code",
   "execution_count": 21,
   "id": "71aa75aa-6907-47fd-98fb-0fa524f7ca1b",
   "metadata": {},
   "outputs": [
    {
     "name": "stdout",
     "output_type": "stream",
     "text": [
      "Билет No. 123456 – Несчастливый билет\n",
      "Билет No. 123321 – Счастливый билет\n"
     ]
    }
   ],
   "source": [
    "t1, t2 = 123456, 123321\n",
    "\n",
    "print(f\"Билет No. {t1} – {is_lucky_ticket(t1)}\")\n",
    "print(f\"Билет No. {t2} – {is_lucky_ticket(t2)}\")"
   ]
  },
  {
   "cell_type": "code",
   "execution_count": null,
   "id": "a01aad64-8fef-473a-9729-e8df1d3c4b68",
   "metadata": {},
   "outputs": [],
   "source": []
  }
 ],
 "metadata": {
  "kernelspec": {
   "display_name": "Python [conda env:base] *",
   "language": "python",
   "name": "conda-base-py"
  },
  "language_info": {
   "codemirror_mode": {
    "name": "ipython",
    "version": 3
   },
   "file_extension": ".py",
   "mimetype": "text/x-python",
   "name": "python",
   "nbconvert_exporter": "python",
   "pygments_lexer": "ipython3",
   "version": "3.13.5"
  }
 },
 "nbformat": 4,
 "nbformat_minor": 5
}
